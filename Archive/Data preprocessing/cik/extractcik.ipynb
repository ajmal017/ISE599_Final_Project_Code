{
 "cells": [
  {
   "cell_type": "markdown",
   "metadata": {},
   "source": [
    "## Extract company CENTRAL INDEX KEY for matching with stock price"
   ]
  },
  {
   "cell_type": "code",
   "execution_count": 1,
   "metadata": {},
   "outputs": [],
   "source": [
    "import os\n",
    "import re\n",
    "import pandas as pd"
   ]
  },
  {
   "cell_type": "code",
   "execution_count": 2,
   "metadata": {},
   "outputs": [],
   "source": [
    "path = '/Users/faustune/Desktop/data/2002.full'"
   ]
  },
  {
   "cell_type": "code",
   "execution_count": 3,
   "metadata": {},
   "outputs": [],
   "source": [
    "files = os.listdir(path)"
   ]
  },
  {
   "cell_type": "code",
   "execution_count": 4,
   "metadata": {},
   "outputs": [
    {
     "data": {
      "text/html": [
       "<div>\n",
       "<style scoped>\n",
       "    .dataframe tbody tr th:only-of-type {\n",
       "        vertical-align: middle;\n",
       "    }\n",
       "\n",
       "    .dataframe tbody tr th {\n",
       "        vertical-align: top;\n",
       "    }\n",
       "\n",
       "    .dataframe thead th {\n",
       "        text-align: right;\n",
       "    }\n",
       "</style>\n",
       "<table border=\"1\" class=\"dataframe\">\n",
       "  <thead>\n",
       "    <tr style=\"text-align: right;\">\n",
       "      <th></th>\n",
       "      <th>filename</th>\n",
       "      <th>CENTRAL INDEX KEY:</th>\n",
       "    </tr>\n",
       "  </thead>\n",
       "  <tbody>\n",
       "  </tbody>\n",
       "</table>\n",
       "</div>"
      ],
      "text/plain": [
       "Empty DataFrame\n",
       "Columns: [filename, CENTRAL INDEX KEY:]\n",
       "Index: []"
      ]
     },
     "execution_count": 4,
     "metadata": {},
     "output_type": "execute_result"
    }
   ],
   "source": [
    "df = pd.DataFrame(columns = ['filename','CENTRAL INDEX KEY:']) \n",
    "df"
   ]
  },
  {
   "cell_type": "code",
   "execution_count": 5,
   "metadata": {
    "scrolled": true
   },
   "outputs": [],
   "source": [
    "for filename in files:\n",
    "        if filename != '.DS_Store':\n",
    "            with open(path+'/'+filename,'r') as file:\n",
    "#                 print(filename)\n",
    "                lines = file.readlines()\n",
    "                dic = {}\n",
    "                dic['filename'] = filename\n",
    "                flag = 0\n",
    "                for line in lines:\n",
    "                    if re.search('CENTRAL', line) != None:\n",
    "                        flag = 1\n",
    "                        line = line[line.index('CENTRAL'):]\n",
    "                    if flag == 1:\n",
    "                        if re.search('INDEX', line) != None:\n",
    "                            flag = 2\n",
    "                    if flag == 2:\n",
    "                        if re.search('KEY', line) != None:\n",
    "                            flag = 3\n",
    "                    if flag == 3:\n",
    "                        if re.search('\\d',line) != None:\n",
    "                            start = line.index(re.search('\\d',line).group(0))\n",
    "                            if re.search('\\D',line[start:]) != None:\n",
    "                                end = line[start:].index(re.search('\\D',line[start:]).group(0))\n",
    "                                dic['CENTRAL INDEX KEY:'] = line[start:start+end+1].strip()\n",
    "                                break\n",
    "                df = df.append(dic,ignore_index=True)              \n",
    "#             print(dic)"
   ]
  },
  {
   "cell_type": "code",
   "execution_count": 6,
   "metadata": {},
   "outputs": [],
   "source": [
    "df.to_csv('2002.csv', index = False)"
   ]
  },
  {
   "cell_type": "code",
   "execution_count": null,
   "metadata": {},
   "outputs": [],
   "source": []
  },
  {
   "cell_type": "code",
   "execution_count": null,
   "metadata": {},
   "outputs": [],
   "source": []
  },
  {
   "cell_type": "code",
   "execution_count": null,
   "metadata": {},
   "outputs": [],
   "source": []
  }
 ],
 "metadata": {
  "kernelspec": {
   "display_name": "Python 3",
   "language": "python",
   "name": "python3"
  },
  "language_info": {
   "codemirror_mode": {
    "name": "ipython",
    "version": 3
   },
   "file_extension": ".py",
   "mimetype": "text/x-python",
   "name": "python",
   "nbconvert_exporter": "python",
   "pygments_lexer": "ipython3",
   "version": "3.7.4"
  }
 },
 "nbformat": 4,
 "nbformat_minor": 2
}
