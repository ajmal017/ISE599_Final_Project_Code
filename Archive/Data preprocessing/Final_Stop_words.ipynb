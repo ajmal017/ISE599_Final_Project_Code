{
 "cells": [
  {
   "cell_type": "code",
   "execution_count": 1,
   "metadata": {},
   "outputs": [],
   "source": [
    "import pandas as pd \n",
    "import numpy as np\n",
    "import nltk\n",
    "import gensim\n",
    "from nltk.corpus import stopwords\n",
    "from nltk.tokenize import sent_tokenize \n",
    "import re\n",
    "import collections\n",
    "import operator\n",
    "import os\n",
    "import pickle\n",
    "from gensim.models import Word2Vec\n",
    "from sklearn.feature_extraction.text import CountVectorizer\n",
    "from gensim.models import doc2vec\n",
    "from collections import namedtuple\n",
    "\n"
   ]
  },
  {
   "cell_type": "markdown",
   "metadata": {},
   "source": [
    "data preprocessing:\n",
    "\n",
    "When reading the file, will skip the first 3000 characters, which are same text for all the 10k files.\n",
    "In order to reduce the size of words and eliminate the effects of redundant words, we used the stopwords package from nltk to exclude some common stopwors. However, the nltk package only contains limited amount of stopwords, which was not enough for our data pre-processing. We count the frequency of random selected files in 1996 & 2004 and chose 50 most frequent words for each 10k files and manually select words to include those words in our stop word list."
   ]
  },
  {
   "cell_type": "code",
   "execution_count": 91,
   "metadata": {},
   "outputs": [],
   "source": [
    "f = open('/Users/jinbinliang/Desktop/ISE599/Project/10K/1996.full/06652B103-10-K-19961216.txt','r')"
   ]
  },
  {
   "cell_type": "code",
   "execution_count": 195,
   "metadata": {},
   "outputs": [],
   "source": [
    "# Read the whole file\n",
    "with open('/Users/jinbinliang/Desktop/ISE599/Project/10K/1996.full/06652B103-10-K-19961216.txt','r') as f:\n",
    "    \n",
    "    pre_processed_article = f.read()[3000:]\n",
    "\n",
    "f.close()\n"
   ]
  },
  {
   "cell_type": "markdown",
   "metadata": {},
   "source": [
    "# Data-preprocesssing, exclude special character / space / number "
   ]
  },
  {
   "cell_type": "code",
   "execution_count": 2,
   "metadata": {},
   "outputs": [],
   "source": [
    "# Pre-process file, set exclude_digit = True if do not include digit \n",
    "def pre_process(file_content, exclude_digit = False):\n",
    "    \n",
    "    processed_article = file_content.lower()\n",
    "    \n",
    "    # Decide whether to exclude the digit or not \n",
    "    if exclude_digit is False:\n",
    "    \n",
    "        # Include digit\n",
    "        processed_article = re.sub(',', '', processed_article )\n",
    "        processed_article = re.sub('[^a-zA-Z0-9]', ' ', processed_article )\n",
    "    else: \n",
    "        # Exclude digit\n",
    "        processed_article = re.sub('[^a-zA-Z]', ' ', processed_article )\n",
    "\n",
    "    processed_article = re.sub(r'\\s+', ' ', processed_article)\n",
    "    \n",
    "    \n",
    "    return processed_article"
   ]
  },
  {
   "cell_type": "markdown",
   "metadata": {},
   "source": [
    "# Get more stop words from the 10k content through observing the word frequency"
   ]
  },
  {
   "cell_type": "code",
   "execution_count": 4,
   "metadata": {},
   "outputs": [],
   "source": [
    "def get_count_of_word_after_remove_stopwords(processed_article):\n",
    "    all_sentences = nltk.sent_tokenize(processed_article)\n",
    "    \n",
    "    if len(all_sentences) == 1:\n",
    "        all_words = nltk.word_tokenize(all_sentences[0])\n",
    "        print('There are',len(all_words),'words.')\n",
    "        \n",
    "        all_words = [word for word in all_words if len(word) >4 ]\n",
    "        print('There are',len(all_words),'has more than 4 characters.')\n",
    "\n",
    "        \n",
    "        all_words = [word for word in all_words if word not in stopwords.words('english')]\n",
    "        print('There are',len(all_words),'after removed stop_words.\\n')\n",
    "        \n",
    "        Freq_word=collections.Counter(all_words)\n",
    "        sorted_x = sorted(Freq_word.items(), key=operator.itemgetter(1), reverse = True)\n",
    "        \n",
    "        Most_Freq = []\n",
    "        for n in range(0,50):\n",
    "            Most_Freq.append(sorted_x[n][0])\n",
    "        \n",
    "        return Most_Freq\n",
    "    else:\n",
    "        print('Length > 1.')\n",
    "        \n",
    "            "
   ]
  },
  {
   "cell_type": "markdown",
   "metadata": {},
   "source": [
    "# Add new stop_words to the stop words list"
   ]
  },
  {
   "cell_type": "code",
   "execution_count": 5,
   "metadata": {},
   "outputs": [
    {
     "name": "stdout",
     "output_type": "stream",
     "text": [
      "There are 117115 words.\n",
      "There are 45382 has more than 4 characters.\n",
      "There are 42949 after removed stop_words.\n",
      "\n",
      "542312103-10-K-19960328.txt \n",
      "\n",
      "['tract', 'corner', 'survey', 'thence', 'distance', 'steel', 'total', 'seller', 'texas', 'shall', 'along', 'north', 'south', 'acres', 'oxygen', 'county', 'described', 'property', 'agreement', 'stock', 'stake', 'exhibit', 'company', 'beginning', 'buyer', 'northwest', 'southwest', 'northeast', 'southeast', 'dated', 'preferred', 'purchaser', 'follows', 'number', 'plant', 'morris', 'right', 'boundary', 'marked', 'million', 'article', 'monument', 'shares', 'contract', 'containing', 'volume', 'records', 'except', 'corporation', 'place'] \n",
      "\n",
      "There are 17842 words.\n",
      "There are 8043 has more than 4 characters.\n",
      "There are 7657 after removed stop_words.\n",
      "\n",
      "023559206-10-K-19961127.txt \n",
      "\n",
      "['company', 'stock', 'shares', 'lease', 'financial', 'series', 'common', 'preferred', 'statements', 'interest', 'payable', 'sodium', 'investment', 'notes', 'trust', 'agreement', 'school', 'securities', 'compensation', 'share', 'development', 'denison', 'total', 'executive', 'bicarbonate', 'directors', 'value', 'ameralia', 'officer', 'production', 'years', 'table', 'mining', 'following', 'australia', 'property', 'hudson', 'issued', 'ended', 'receivable', 'assets', 'director', 'management', 'resources', 'operations', 'income', 'mourik', 'market', 'balance', 'options'] \n",
      "\n",
      "There are 50186 words.\n",
      "There are 24001 has more than 4 characters.\n",
      "There are 22808 after removed stop_words.\n",
      "\n",
      "881609101-10-K-19960322.txt \n",
      "\n",
      "['company', 'million', 'december', 'agreement', 'contract', 'production', 'employee', 'stock', 'financial', 'table', 'approximately', 'price', 'tennessee', 'tesoro', 'operations', 'natural', 'petroleum', 'sales', 'notes', 'operating', 'alaska', 'consolidated', 'statements', 'refinery', 'ended', 'exhibit', 'state', 'market', 'costs', 'incorporated', 'reference', 'shall', 'herein', 'common', 'certain', 'field', 'corporation', 'products', 'future', 'crude', 'texas', 'dated', 'average', 'capital', 'assets', 'earnings', 'total', 'marketing', 'september', 'court'] \n",
      "\n",
      "There are 17169 words.\n",
      "There are 8185 has more than 4 characters.\n",
      "There are 7826 after removed stop_words.\n",
      "\n",
      "208254888-10-K-19961029.txt \n",
      "\n",
      "['company', 'stock', 'sales', 'shares', 'common', 'products', 'series', 'option', 'preferred', 'interest', 'agreement', 'income', 'equipment', 'august', 'military', 'fiscal', 'financial', 'ended', 'years', 'share', 'facility', 'corporation', 'conolog', 'credit', 'statements', 'systems', 'period', 'benou', 'registrant', 'commercial', 'offering', 'total', 'registration', 'directors', 'market', 'business', 'customers', 'accrued', 'statement', 'management', 'product', 'current', 'options', 'markets', 'quarter', 'balance', 'transmission', 'since', 'approximately', 'increase'] \n",
      "\n",
      "There are 34150 words.\n",
      "There are 16033 has more than 4 characters.\n",
      "There are 15333 after removed stop_words.\n",
      "\n",
      "258715101-10-K-19960329.txt \n",
      "\n",
      "['shall', 'company', 'tenant', 'lease', 'party', 'landlord', 'lessor', 'agreement', 'secured', 'lessee', 'grantor', 'december', 'premises', 'directors', 'notice', 'vehicle', 'section', 'corporation', 'meeting', 'board', 'demised', 'leased', 'income', 'foods', 'interest', 'provided', 'except', 'ended', 'agrees', 'vehicles', 'security', 'insurance', 'thereof', 'doughtie', 'including', 'article', 'without', 'shareholders', 'receivables', 'respect', 'herein', 'shares', 'virginia', 'property', 'otherwise', 'president', 'taxes', 'dated', 'written', 'annual'] \n",
      "\n",
      "There are 26340 words.\n",
      "There are 13851 has more than 4 characters.\n",
      "There are 13358 after removed stop_words.\n",
      "\n",
      "95752F106-10-K-19960327.txt \n",
      "\n",
      "['company', 'stock', 'training', 'december', 'programming', 'communications', 'services', 'satellite', 'financial', 'westcott', 'network', 'common', 'approximately', 'education', 'agreement', 'dated', 'service', 'programs', 'networks', 'corporation', 'revenues', 'market', 'shares', 'subscribers', 'videotape', 'subscription', 'income', 'sales', 'equipment', 'ended', 'increase', 'management', 'production', 'operations', 'exchange', 'report', 'quarter', 'table', 'statements', 'commission', 'purchase', 'television', 'consolidated', 'securities', 'medical', 'continuing', 'primarily', 'option', 'markets', 'share'] \n",
      "\n",
      "There are 17851 words.\n",
      "There are 8670 has more than 4 characters.\n",
      "There are 8349 after removed stop_words.\n",
      "\n",
      "919260109-10-K-19960826.txt \n",
      "\n",
      "['company', 'stock', 'vallen', 'shall', 'safety', 'financial', 'committee', 'sales', 'table', 'shares', 'earnings', 'corporation', 'consolidated', 'assets', 'statements', 'subsidiary', 'equipment', 'income', 'distribution', 'participant', 'common', 'products', 'years', 'ended', 'securities', 'fiscal', 'manufacturing', 'award', 'current', 'subsidiaries', 'operations', 'equity', 'total', 'industrial', 'share', 'notes', 'caption', 'compensation', 'value', 'encon', 'employee', 'board', 'liabilities', 'outstanding', 'business', 'accounting', 'president', 'exchange', 'number', 'supply'] \n",
      "\n",
      "There are 14668 words.\n",
      "There are 7252 has more than 4 characters.\n",
      "There are 6985 after removed stop_words.\n",
      "\n",
      "026375105-10-K-19960529.txt \n",
      "\n",
      "['corporation', 'february', 'shares', 'financial', 'table', 'income', 'class', 'cards', 'sales', 'share', 'common', 'stock', 'assets', 'accounting', 'exhibit', 'statement', 'products', 'consolidated', 'statements', 'costs', 'million', 'greeting', 'ended', 'deferred', 'options', 'related', 'director', 'agreements', 'caption', 'years', 'registrant', 'company', 'total', 'increase', 'business', 'option', 'material', 'taxes', 'continued', 'fiscal', 'filed', 'united', 'effect', 'executive', 'price', 'reference', 'greetings', 'operating', 'report', 'incorporated'] \n",
      "\n",
      "There are 12012 words.\n",
      "There are 5715 has more than 4 characters.\n",
      "There are 5497 after removed stop_words.\n",
      "\n",
      "096081104-10-K-19960927.txt \n",
      "\n",
      "['company', 'income', 'financial', 'stock', 'products', 'fiscal', 'table', 'statements', 'common', 'product', 'sales', 'mizar', 'share', 'defense', 'accounting', 'shares', 'securities', 'capital', 'applications', 'total', 'assets', 'years', 'debentures', 'commercial', 'customers', 'market', 'september', 'caption', 'based', 'development', 'thousands', 'president', 'current', 'expenses', 'statement', 'customer', 'revenues', 'operations', 'management', 'director', 'dated', 'primarily', 'public', 'operating', 'equipment', 'purchase', 'deferred', 'options', 'stockholders', 'believes'] \n",
      "\n",
      "There are 23572 words.\n",
      "There are 11639 has more than 4 characters.\n",
      "There are 11198 after removed stop_words.\n",
      "\n",
      "957547102-10-K-19960126.txt \n",
      "\n",
      "['company', 'westerbeke', 'october', 'distributor', 'shall', 'products', 'agreement', 'fiscal', 'income', 'financial', 'sales', 'table', 'years', 'stock', 'marine', 'statements', 'corporation', 'product', 'effect', 'director', 'ended', 'statement', 'securities', 'parts', 'accounting', 'credit', 'consolidated', 'president', 'shares', 'directors', 'business', 'operations', 'terms', 'equipment', 'executive', 'common', 'management', 'annual', 'change', 'taxes', 'engines', 'interest', 'deferred', 'options', 'period', 'january', 'purchase', 'assets', 'market', 'engine'] \n",
      "\n",
      "There are 35331 words.\n",
      "There are 16531 has more than 4 characters.\n",
      "There are 15836 after removed stop_words.\n",
      "\n",
      "147339105-10-K-19960329.txt \n",
      "\n",
      "['stock', 'corporation', 'preferred', 'shall', 'shares', 'company', 'cascade', 'dividends', 'common', 'share', 'redemption', 'holders', 'agreement', 'natural', 'december', 'series', 'outstanding', 'table', 'registrant', 'financial', 'payment', 'directors', 'amount', 'section', 'service', 'dividend', 'customers', 'washington', 'rights', 'earnings', 'storage', 'board', 'provided', 'value', 'supply', 'number', 'exhibit', 'otherwise', '55cents', 'securities', 'transportation', 'assets', 'holder', 'operating', 'income', 'statements', 'property', 'interest', 'statement', 'price'] \n",
      "\n",
      "There are 15825 words.\n",
      "There are 8150 has more than 4 characters.\n",
      "There are 7793 after removed stop_words.\n",
      "\n",
      "291575108-10-K-19960927.txt \n",
      "\n",
      "['company', 'stock', 'fiscal', 'income', 'operations', 'operating', 'expenses', 'ended', 'common', 'additional', 'industries', 'emons', 'pennsylvania', 'financial', 'transportation', 'revenues', 'share', 'railroad', 'table', 'agreement', 'statements', 'increase', 'shares', 'group', 'business', 'prior', 'taxes', 'preferred', 'september', 'years', 'total', 'financing', 'assets', 'interest', 'facility', 'intermodal', 'approximately', 'current', 'cumulative', 'liabilities', 'accounting', 'logistics', 'consolidated', 'track', 'includes', 'increased', 'liability', 'earnings', 'maine', 'storage'] \n",
      "\n"
     ]
    },
    {
     "name": "stdout",
     "output_type": "stream",
     "text": [
      "There are 26956 words.\n",
      "There are 12844 has more than 4 characters.\n",
      "There are 12234 after removed stop_words.\n",
      "\n",
      "45811K109-10-K-19960926.txt \n",
      "\n",
      "['company', 'employee', 'shall', 'agreement', 'fiscal', 'stock', 'million', 'financial', 'income', 'products', 'employment', 'common', 'turtle', 'beach', 'revenue', 'section', 'provided', 'statements', 'statement', 'product', 'consolidated', 'years', 'certain', 'business', 'effective', 'sales', 'table', 'development', 'options', 'agreements', 'accounting', 'provisions', 'shares', 'including', 'assets', 'period', 'registrant', 'market', 'prior', 'purchase', 'pursuant', 'quarter', 'total', 'respect', 'share', 'ended', 'termination', 'value', 'interest', 'expenses'] \n",
      "\n",
      "There are 85550 words.\n",
      "There are 40671 has more than 4 characters.\n",
      "There are 38946 after removed stop_words.\n",
      "\n",
      "148449309-10-K-19960315.txt \n",
      "\n",
      "['company', 'castle', 'shall', 'agreement', 'section', 'september', 'party', 'corporation', 'refining', 'buyer', 'assets', 'indian', 'closing', 'stock', 'powerine', 'purchase', 'liabilities', 'financial', 'marketing', 'including', 'income', 'sellers', 'parent', 'dated', 'operations', 'merger', 'limited', 'refinery', 'parties', 'energy', 'subsidiaries', 'consolidated', 'partnership', 'production', 'shares', 'common', 'table', 'letter', 'except', 'related', 'share', 'obligations', 'prior', 'respect', 'asset', 'required', 'natural', 'business', 'contract', 'october'] \n",
      "\n",
      "There are 59498 words.\n",
      "There are 28623 has more than 4 characters.\n",
      "There are 27352 after removed stop_words.\n",
      "\n",
      "743663403-10-K-19961230.txt \n",
      "\n",
      "['company', 'shall', 'agent', 'agreement', 'monitoring', 'stock', 'security', 'accounts', 'alarm', 'subscriber', 'borrower', 'september', 'million', 'shares', 'financial', 'services', 'indenture', 'common', 'credit', 'exhibit', 'fiscal', 'protection', 'dated', 'notes', 'reference', 'purchase', 'statements', 'collateral', 'acquisition', 'service', 'table', 'without', 'incorporated', 'lenders', 'guarantor', 'section', 'provided', 'interest', 'including', 'subscribers', 'pledgor', 'rights', 'obligations', 'costs', 'expenses', 'option', 'revenues', 'thereof', 'exercise', 'certain'] \n",
      "\n",
      "There are 25362 words.\n",
      "There are 12840 has more than 4 characters.\n",
      "There are 12254 after removed stop_words.\n",
      "\n",
      "421933102-10-K-19961220.txt \n",
      "\n",
      "['company', 'hospital', 'agreement', 'exhibit', 'management', 'hospitals', 'borrower', 'health', 'september', 'financial', 'income', 'fiscal', 'associates', 'services', 'dated', 'stock', 'statements', 'number', 'table', 'ended', 'service', 'medicare', 'increase', 'accounting', 'interest', 'assets', 'revenue', 'florida', 'costs', 'statement', 'business', 'shall', 'report', 'acute', 'taxes', 'state', 'consolidated', 'corporation', 'credit', 'psychiatric', 'capital', 'years', 'facilities', 'patient', 'program', 'medicaid', 'operations', 'first', 'federal', 'certain'] \n",
      "\n",
      "There are 24248 words.\n",
      "There are 12107 has more than 4 characters.\n",
      "There are 11615 after removed stop_words.\n",
      "\n",
      "337613103-10-K-19960327.txt \n",
      "\n",
      "['interest', 'company', 'loans', 'income', 'financial', 'december', 'assets', 'total', 'value', 'firstbank', 'market', 'securities', 'accounting', 'years', 'consolidated', 'stock', 'illinois', 'management', 'average', 'losses', 'balance', 'common', 'expense', 'shares', 'statements', 'deposits', 'capital', 'thousands', 'banks', 'equity', 'subsidiaries', 'subsidiary', 'based', 'reserve', 'liabilities', 'federal', 'investment', 'effect', 'credit', 'estate', 'available', 'borrowings', 'table', 'maturity', 'statement', 'following', 'share', 'amount', 'rates', 'short'] \n",
      "\n",
      "There are 67405 words.\n",
      "There are 32998 has more than 4 characters.\n",
      "There are 31421 after removed stop_words.\n",
      "\n",
      "031909203-10-K-19960401.txt \n",
      "\n",
      "['tenant', 'shall', 'landlord', 'company', 'agreement', 'mortgage', 'premises', 'exhibit', 'lease', 'borrower', 'loans', 'december', 'amresco', 'asset', 'section', 'interest', 'lender', 'million', 'financial', 'business', 'stock', 'management', 'provided', 'building', 'security', 'herein', 'including', 'income', 'space', 'buildings', 'assets', 'value', 'ended', 'amount', 'table', 'securities', 'operations', 'common', 'services', 'registrant', 'costs', 'expense', 'notice', 'basic', 'notes', 'share', 'within', 'expenses', 'certain', 'insurance'] \n",
      "\n",
      "There are 22133 words.\n",
      "There are 10783 has more than 4 characters.\n",
      "There are 10324 after removed stop_words.\n",
      "\n",
      "363170101-10-K-19960401.txt \n",
      "\n",
      "['partnership', 'galaxy', 'general', 'systems', 'partner', 'december', 'management', 'gleason', 'cablevision', 'cable', 'agreement', 'managing', 'assets', 'interest', 'ended', 'telecom', 'tommy', 'march', 'purchase', 'units', 'charter', 'september', 'expenses', 'holdings', 'certain', 'texas', 'financial', 'distributions', 'partners', 'liquidation', 'television', 'basis', 'cameron', 'limited', 'approximately', 'income', 'months', 'investment', 'price', 'louisiana', 'statements', 'sales', 'unitholders', 'operations', 'kentucky', 'subscribers', 'related', 'amount', 'austin', 'director'] \n",
      "\n",
      "There are 44988 words.\n",
      "There are 21865 has more than 4 characters.\n",
      "There are 20872 after removed stop_words.\n",
      "\n",
      "913259107-10-K-19960329.txt \n",
      "\n",
      "['company', 'unitil', 'employee', 'electric', 'shall', 'stock', 'service', 'december', 'employees', 'agreement', 'utility', 'retirement', 'total', 'financial', 'power', 'common', 'operating', 'years', 'shares', 'union', 'benefits', 'income', 'statements', 'investment', 'customers', 'compensation', 'hampshire', 'energy', 'directors', 'system', 'hours', 'corporation', 'deferred', 'subsidiaries', 'first', 'assets', 'annual', 'benefit', 'costs', 'board', 'series', 'three', 'provided', 'value', 'statement', 'insurance', 'period', 'revenue', 'interest', 'normal'] \n",
      "\n"
     ]
    }
   ],
   "source": [
    "# Add more words to the stop_words list\n",
    "file_name_1996 = os.listdir('/Users/jinbinliang/Desktop/ISE599/Project/10K/1996.full')\n",
    "\n",
    "for i in range(1000,1020):\n",
    "    file_name = file_name_1996[i]\n",
    "    file_path = '/Users/jinbinliang/Desktop/ISE599/Project/10K/1996.full/'+file_name\n",
    "    f = open(file_path,'r')\n",
    "    pre_processed_article = f.read()[3000:]\n",
    "    f.close()\n",
    "    processed_article = pre_process(pre_processed_article)\n",
    "    list_word = get_count_of_word_after_remove_stopwords(processed_article)\n",
    "    print(file_name,'\\n')\n",
    "    print(list_word,'\\n')"
   ]
  },
  {
   "cell_type": "markdown",
   "metadata": {},
   "source": [
    "# Use this add_stop_words"
   ]
  },
  {
   "cell_type": "code",
   "execution_count": 9,
   "metadata": {},
   "outputs": [],
   "source": [
    "add_stop_word = ['0','1','2','3','4','5','6','7','8','9','10','a','b','c','e','f','g','h','i','j','k','l','m','n','o',\n",
    "                 'p','q','r','s','t','u','v','w','s','y','z','ltd','part','000','note','year','site','ended',\n",
    "                 'company','section','i','ii','shall','may','report','date','item','form','time','page','inc',\n",
    "                'table','article','line','10k','file','person','shall','first','three','years','products']"
   ]
  },
  {
   "cell_type": "code",
   "execution_count": 7,
   "metadata": {},
   "outputs": [
    {
     "data": {
      "text/plain": [
       "245"
      ]
     },
     "execution_count": 7,
     "metadata": {},
     "output_type": "execute_result"
    }
   ],
   "source": [
    "New_stop_words = add_stop_word + stopwords.words('english')\n",
    "len(New_stop_words)"
   ]
  },
  {
   "cell_type": "code",
   "execution_count": 12,
   "metadata": {},
   "outputs": [],
   "source": [
    "# write stop_words to file\n",
    "with open(\"/Users/jinbinliang/Desktop/ISE599/Project/10K/stop_word_new.txt\", \"w\") as f:\n",
    "    for word in New_stop_words:\n",
    "        f.write(word +\"\\n\")\n",
    "        \n",
    "# # read stop_words to file\n",
    "# with open(\"/Users/jinbinliang/Desktop/ISE599/Project/10K/stop_word.txt\", \"r\") as f:\n",
    "#       for line in f:\n",
    "#     score.append(int(line.strip()))"
   ]
  },
  {
   "cell_type": "markdown",
   "metadata": {},
   "source": [
    "# Using new stop words list to reduce size of content"
   ]
  },
  {
   "cell_type": "code",
   "execution_count": 25,
   "metadata": {},
   "outputs": [],
   "source": [
    "def Exclude_Stop_words (processed_article, stop_words_list):\n",
    "    all_sentences = nltk.sent_tokenize(processed_article)\n",
    "    \n",
    "    if len(all_sentences) == 1:\n",
    "        all_words = nltk.word_tokenize(all_sentences[0])\n",
    "        print('There are',len(all_words),'words.')\n",
    "        \n",
    "        all_words = [word for word in all_words if len(word) >4 ]\n",
    "        print('There are',len(all_words),'has more than 4 characters.')\n",
    "\n",
    "        all_words = [word for word in all_words if word not in stop_words_list]\n",
    "        print('There are',len(all_words),'after removed stop_words.\\n')\n",
    "        \n",
    "        return all_words\n",
    "    \n",
    "    else:\n",
    "        print('Length > 1.')"
   ]
  },
  {
   "cell_type": "markdown",
   "metadata": {},
   "source": [
    "# Build word2vec model"
   ]
  },
  {
   "cell_type": "code",
   "execution_count": 8,
   "metadata": {},
   "outputs": [],
   "source": [
    "# Remove words by new stop_words_list\n",
    "file_name_1996 = os.listdir('/Users/jinbinliang/Desktop/ISE599/Project/10K/2004.full')\n",
    "stop_words_list = []\n",
    "list_10k_contents = []\n",
    "with open(\"/Users/jinbinliang/Desktop/ISE599/Project/10K/stop_word.txt\", \"r\") as f:\n",
    "    for line in f:\n",
    "        stop_words_list.append(str(line.strip()))\n",
    "\n",
    "\n",
    "for i in range(1000,1020):\n",
    "    file_name = file_name_1996[i]\n",
    "    file_path = '/Users/jinbinliang/Desktop/ISE599/Project/10K/2004.full/'+file_name\n",
    "    f = open(file_path,'r')\n",
    "    pre_processed_article = f.read()[3000:]\n",
    "    f.close()\n",
    "    processed_article = pre_process(pre_processed_article)\n",
    "    Exclude_word_processed_article = Exclude_Stop_words(processed_article,stop_words_list)\n",
    "    list_10k_contents.append(Exclude_word_processed_article)"
   ]
  },
  {
   "cell_type": "code",
   "execution_count": 47,
   "metadata": {},
   "outputs": [],
   "source": [
    "docs = []\n",
    "analyzedDocument = namedtuple('AnalyzedDocument', 'words tags')\n",
    "for i, text in enumerate(list_10k_contents):\n",
    "    tags = [i]\n",
    "    docs.append(analyzedDocument(text, tags))"
   ]
  },
  {
   "cell_type": "code",
   "execution_count": 50,
   "metadata": {},
   "outputs": [
    {
     "name": "stderr",
     "output_type": "stream",
     "text": [
      "/Users/jinbinliang/anaconda3/lib/python3.6/site-packages/gensim/models/doc2vec.py:574: UserWarning: The parameter `size` is deprecated, will be removed in 4.0.0, use `vector_size` instead.\n",
      "  warnings.warn(\"The parameter `size` is deprecated, will be removed in 4.0.0, use `vector_size` instead.\")\n"
     ]
    }
   ],
   "source": [
    "model = doc2vec.Doc2Vec(docs, size = 100, window = 300, min_count = 2, workers = 4)"
   ]
  },
  {
   "cell_type": "code",
   "execution_count": null,
   "metadata": {},
   "outputs": [],
   "source": []
  }
 ],
 "metadata": {
  "kernelspec": {
   "display_name": "Python 3",
   "language": "python",
   "name": "python3"
  },
  "language_info": {
   "codemirror_mode": {
    "name": "ipython",
    "version": 3
   },
   "file_extension": ".py",
   "mimetype": "text/x-python",
   "name": "python",
   "nbconvert_exporter": "python",
   "pygments_lexer": "ipython3",
   "version": "3.7.4"
  }
 },
 "nbformat": 4,
 "nbformat_minor": 2
}
