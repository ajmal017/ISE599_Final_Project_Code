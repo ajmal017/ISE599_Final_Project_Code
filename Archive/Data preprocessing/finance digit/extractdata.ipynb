{
 "cells": [
  {
   "cell_type": "markdown",
   "metadata": {},
   "source": [
    "## Extract finance digit from 10-k"
   ]
  },
  {
   "cell_type": "code",
   "execution_count": 1,
   "metadata": {},
   "outputs": [],
   "source": [
    "import os\n",
    "import re\n",
    "import pandas as pd"
   ]
  },
  {
   "cell_type": "code",
   "execution_count": 2,
   "metadata": {},
   "outputs": [],
   "source": [
    "path = '/Users/faustune/PycharmProjects/599project/data1/'"
   ]
  },
  {
   "cell_type": "code",
   "execution_count": 3,
   "metadata": {},
   "outputs": [
    {
     "data": {
      "text/plain": [
       "['.DS_Store', '1996.full']"
      ]
     },
     "execution_count": 3,
     "metadata": {},
     "output_type": "execute_result"
    }
   ],
   "source": [
    "folds = os.listdir(path)\n",
    "folds"
   ]
  },
  {
   "cell_type": "code",
   "execution_count": 18,
   "metadata": {},
   "outputs": [
    {
     "data": {
      "text/html": [
       "<div>\n",
       "<style scoped>\n",
       "    .dataframe tbody tr th:only-of-type {\n",
       "        vertical-align: middle;\n",
       "    }\n",
       "\n",
       "    .dataframe tbody tr th {\n",
       "        vertical-align: top;\n",
       "    }\n",
       "\n",
       "    .dataframe thead th {\n",
       "        text-align: right;\n",
       "    }\n",
       "</style>\n",
       "<table border=\"1\" class=\"dataframe\">\n",
       "  <thead>\n",
       "    <tr style=\"text-align: right;\">\n",
       "      <th></th>\n",
       "      <th>filename</th>\n",
       "      <th>&lt;PERIOD-START&gt;</th>\n",
       "      <th>&lt;PERIOD-END&gt;</th>\n",
       "      <th>&lt;SEC-DOCUMENT&gt;</th>\n",
       "      <th>&lt;SEC-HEADER&gt;</th>\n",
       "      <th>ACCESSION NUMBER:</th>\n",
       "      <th>PUBLIC DOCUMENT COUNT:</th>\n",
       "      <th>CONFORMED PERIOD OF REPORT:</th>\n",
       "      <th>FILED AS OF DATE:</th>\n",
       "      <th>COMPANY CONFORMED NAME:</th>\n",
       "      <th>...</th>\n",
       "      <th>Operating income</th>\n",
       "      <th>Gross profit</th>\n",
       "      <th>Net income</th>\n",
       "      <th>&lt;TOTAL-COSTS&gt;</th>\n",
       "      <th>&lt;TOTAL-REVENUES&gt;</th>\n",
       "      <th>&lt;RECEIVABLES&gt;</th>\n",
       "      <th>&lt;INTEREST-EXPENSE&gt;</th>\n",
       "      <th>&lt;CURRENT-ASSETS&gt;</th>\n",
       "      <th>&lt;CURRENT-LIABILITIES&gt;</th>\n",
       "      <th>&lt;DEPRECIATION&gt;</th>\n",
       "    </tr>\n",
       "  </thead>\n",
       "  <tbody>\n",
       "  </tbody>\n",
       "</table>\n",
       "<p>0 rows × 35 columns</p>\n",
       "</div>"
      ],
      "text/plain": [
       "Empty DataFrame\n",
       "Columns: [filename, <PERIOD-START>, <PERIOD-END>, <SEC-DOCUMENT>, <SEC-HEADER>, ACCESSION NUMBER:, PUBLIC DOCUMENT COUNT:, CONFORMED PERIOD OF REPORT:, FILED AS OF DATE:, COMPANY CONFORMED NAME:, CENTRAL INDEX KEY:, STANDARD INDUSTRIAL CLASSIFICATION:, IRS NUMBER:, STATE OF INCORPORATION:, FISCAL YEAR END:, SEC FILE NUMBER:, FILM NUMBER:, CITY:, STATE:, Total assets, Total shareholders' equity, Total stockholders' equity, Total liabilities, Provision for income taxes, Long-term debt    , Operating income, Gross profit, Net income, <TOTAL-COSTS>, <TOTAL-REVENUES>, <RECEIVABLES>, <INTEREST-EXPENSE>, <CURRENT-ASSETS>, <CURRENT-LIABILITIES>, <DEPRECIATION>]\n",
       "Index: []\n",
       "\n",
       "[0 rows x 35 columns]"
      ]
     },
     "execution_count": 18,
     "metadata": {},
     "output_type": "execute_result"
    }
   ],
   "source": [
    "df = pd.DataFrame(columns = ['filename','<PERIOD-START>','<PERIOD-END>','<SEC-DOCUMENT>','<SEC-HEADER>','ACCESSION NUMBER:','PUBLIC DOCUMENT COUNT:',\n",
    "                                 'CONFORMED PERIOD OF REPORT:','FILED AS OF DATE:','COMPANY CONFORMED NAME:',\n",
    "                                 'CENTRAL INDEX KEY:','STANDARD INDUSTRIAL CLASSIFICATION:','IRS NUMBER:',\n",
    "                                 'STATE OF INCORPORATION:','FISCAL YEAR END:','SEC FILE NUMBER:','FILM NUMBER:',\n",
    "                                 'CITY:','STATE:', 'Total assets', \"Total shareholders' equity\", \n",
    "                             \"Total stockholders' equity\",'Total liabilities',  'Provision for income taxes',\n",
    "                                'Long-term debt    ', 'Operating income', 'Gross profit', 'Net income',  \n",
    "                               '<TOTAL-COSTS>', '<TOTAL-REVENUES>', '<RECEIVABLES>', '<INTEREST-EXPENSE>', \n",
    "                               '<CURRENT-ASSETS>', '<CURRENT-LIABILITIES>', '<DEPRECIATION>']) \n",
    "df"
   ]
  },
  {
   "cell_type": "code",
   "execution_count": 19,
   "metadata": {
    "scrolled": false
   },
   "outputs": [],
   "source": [
    "for fold in folds:\n",
    "    if fold != '.DS_Store':\n",
    "        files = os.listdir(path+fold)\n",
    "        for filename in files:\n",
    "            if filename != '.DS_Store':\n",
    "                with open(path+fold+'/'+filename,'r') as file:\n",
    "                    flag_item8 = 0\n",
    "                    flag_cur_asset = 0\n",
    "                    lines = file.readlines()\n",
    "                    dic = {}\n",
    "                    dic['filename'] = filename\n",
    "                    item1 = ['<SEC-DOCUMENT>','<SEC-HEADER>','ACCESSION NUMBER:','PUBLIC DOCUMENT COUNT:',\n",
    "                                 'CONFORMED PERIOD OF REPORT:','FILED AS OF DATE:','COMPANY CONFORMED NAME:',\n",
    "                                 'CENTRAL INDEX KEY:','STANDARD INDUSTRIAL CLASSIFICATION:','IRS NUMBER:',\n",
    "                                 'STATE OF INCORPORATION:','FISCAL YEAR END:','SEC FILE NUMBER:','FILM NUMBER:',\n",
    "                                 'CITY:','STATE:']\n",
    "                    item8_1 = ['Total liabilities',  'Provision for income taxes',\n",
    "                                'Long-term debt    ']\n",
    "                    item8_2 = ['Total assets', \"Total shareholders' equity\", \"Total stockholders' equity\",\n",
    "                               'Operating income', 'Gross profit', 'Net income', '<PERIOD-START>' ,\n",
    "                               '<TOTAL-COSTS>', '<TOTAL-REVENUES>', '<RECEIVABLES>', '<INTEREST-EXPENSE>', \n",
    "                               '<CURRENT-ASSETS>', '<CURRENT-LIABILITIES>', '<DEPRECIATION>', '<PERIOD-END>']\n",
    "                    for line in lines:\n",
    "                        if flag_cur_asset == 1:\n",
    "                            if re.search('Cash', line, re.IGNORECASE) != None:\n",
    "                                if re.search('\\d',line) != None:\n",
    "                                    start = line.index(re.search('\\d',line).group(0))\n",
    "                                    dic['Cash'] = line[start:].strip()\n",
    "                            flag_cur_asset = 0\n",
    "                        for key in item1:\n",
    "                            if re.search(key, line) != None:\n",
    "                                dic[key] = line[line.index(':')+1:].strip()\n",
    "                        if re.search('ITEM', line) != None:\n",
    "                            if re.search('8. ', line) != None:\n",
    "                                if re.search('FINANCIAL STATEMENTS', line) != None:\n",
    "                                    flag_item8 = 1\n",
    "                        if flag_item8 == 1:\n",
    "                            for key in item8_1:\n",
    "                                if re.search(key, line, re.IGNORECASE) != None:\n",
    "                                    if re.search('\\d',line) != None:\n",
    "                                        start = line.index(re.search('\\d',line).group(0))\n",
    "                                    if re.search(' ',line[start:]) != None:\n",
    "                                        end = line[start:].index(re.search(' ',line[start:]).group(0))\n",
    "                                        dic[key] = line[start:start+end+1]\n",
    "                                    item8_1.remove(key)\n",
    "                            for key in item8_2:\n",
    "                                if re.search(key, line, re.IGNORECASE) != None:\n",
    "                                    if re.search('\\d',line) != None:\n",
    "                                        start = line.index(re.search('\\d',line).group(0))\n",
    "                                        dic[key] = line[start:].strip()\n",
    "                                    item8_2.remove(key)\n",
    "                        if re.search('Current assets', line, re.IGNORECASE) != None:\n",
    "                            flag_cur_asset = 1\n",
    "                df = df.append(dic,ignore_index=True)              \n",
    "#                 print(dic,len(dic))\n",
    "#                                 \n",
    "# Total assets   Total liabilities "
   ]
  },
  {
   "cell_type": "code",
   "execution_count": 20,
   "metadata": {},
   "outputs": [
    {
     "data": {
      "text/html": [
       "<div>\n",
       "<style scoped>\n",
       "    .dataframe tbody tr th:only-of-type {\n",
       "        vertical-align: middle;\n",
       "    }\n",
       "\n",
       "    .dataframe tbody tr th {\n",
       "        vertical-align: top;\n",
       "    }\n",
       "\n",
       "    .dataframe thead th {\n",
       "        text-align: right;\n",
       "    }\n",
       "</style>\n",
       "<table border=\"1\" class=\"dataframe\">\n",
       "  <thead>\n",
       "    <tr style=\"text-align: right;\">\n",
       "      <th></th>\n",
       "      <th>filename</th>\n",
       "      <th>&lt;PERIOD-START&gt;</th>\n",
       "      <th>&lt;PERIOD-END&gt;</th>\n",
       "      <th>&lt;SEC-DOCUMENT&gt;</th>\n",
       "      <th>&lt;SEC-HEADER&gt;</th>\n",
       "      <th>ACCESSION NUMBER:</th>\n",
       "      <th>PUBLIC DOCUMENT COUNT:</th>\n",
       "      <th>CONFORMED PERIOD OF REPORT:</th>\n",
       "      <th>FILED AS OF DATE:</th>\n",
       "      <th>COMPANY CONFORMED NAME:</th>\n",
       "      <th>...</th>\n",
       "      <th>Gross profit</th>\n",
       "      <th>Net income</th>\n",
       "      <th>&lt;TOTAL-COSTS&gt;</th>\n",
       "      <th>&lt;TOTAL-REVENUES&gt;</th>\n",
       "      <th>&lt;RECEIVABLES&gt;</th>\n",
       "      <th>&lt;INTEREST-EXPENSE&gt;</th>\n",
       "      <th>&lt;CURRENT-ASSETS&gt;</th>\n",
       "      <th>&lt;CURRENT-LIABILITIES&gt;</th>\n",
       "      <th>&lt;DEPRECIATION&gt;</th>\n",
       "      <th>Cash</th>\n",
       "    </tr>\n",
       "  </thead>\n",
       "  <tbody>\n",
       "    <tr>\n",
       "      <td>0</td>\n",
       "      <td>00087B101-10-K-19960529.txt</td>\n",
       "      <td>01-1995</td>\n",
       "      <td>29-1996</td>\n",
       "      <td>19960530</td>\n",
       "      <td>19960530</td>\n",
       "      <td>0000912057-96-011031</td>\n",
       "      <td>5</td>\n",
       "      <td>19960229</td>\n",
       "      <td>19960529</td>\n",
       "      <td>ACR GROUP INC</td>\n",
       "      <td>...</td>\n",
       "      <td>10,720,806         8,563,240          6,738,307</td>\n",
       "      <td>183,766       $   558,206        $ 1,114,068</td>\n",
       "      <td>45,779,447</td>\n",
       "      <td>0</td>\n",
       "      <td>7,648,340</td>\n",
       "      <td>644,767</td>\n",
       "      <td>17,758,665</td>\n",
       "      <td>9,640,604</td>\n",
       "      <td>1,470,788</td>\n",
       "      <td>348,162          $   162,745</td>\n",
       "    </tr>\n",
       "  </tbody>\n",
       "</table>\n",
       "<p>1 rows × 36 columns</p>\n",
       "</div>"
      ],
      "text/plain": [
       "                      filename <PERIOD-START> <PERIOD-END> <SEC-DOCUMENT>  \\\n",
       "0  00087B101-10-K-19960529.txt        01-1995      29-1996       19960530   \n",
       "\n",
       "  <SEC-HEADER>     ACCESSION NUMBER: PUBLIC DOCUMENT COUNT:  \\\n",
       "0     19960530  0000912057-96-011031                      5   \n",
       "\n",
       "  CONFORMED PERIOD OF REPORT: FILED AS OF DATE: COMPANY CONFORMED NAME:  ...  \\\n",
       "0                    19960229          19960529           ACR GROUP INC  ...   \n",
       "\n",
       "                                      Gross profit  \\\n",
       "0  10,720,806         8,563,240          6,738,307   \n",
       "\n",
       "                                     Net income <TOTAL-COSTS>  \\\n",
       "0  183,766       $   558,206        $ 1,114,068    45,779,447   \n",
       "\n",
       "  <TOTAL-REVENUES> <RECEIVABLES> <INTEREST-EXPENSE> <CURRENT-ASSETS>  \\\n",
       "0                0     7,648,340            644,767       17,758,665   \n",
       "\n",
       "  <CURRENT-LIABILITIES> <DEPRECIATION>                          Cash  \n",
       "0             9,640,604      1,470,788  348,162          $   162,745  \n",
       "\n",
       "[1 rows x 36 columns]"
      ]
     },
     "execution_count": 20,
     "metadata": {},
     "output_type": "execute_result"
    }
   ],
   "source": [
    "df"
   ]
  },
  {
   "cell_type": "code",
   "execution_count": 17,
   "metadata": {},
   "outputs": [],
   "source": [
    "df.to_csv('data.csv', index = False)"
   ]
  },
  {
   "cell_type": "code",
   "execution_count": null,
   "metadata": {},
   "outputs": [],
   "source": [
    "# We focused our work on items 8 and 14, which contain audited balance sheets for two years as well as \n",
    "# three audited annual statements of income and cash flow, and supplemental financial data schedules (FDS). \n",
    "# The FDS consist of aggregated financial information and selected financial ratios."
   ]
  },
  {
   "cell_type": "code",
   "execution_count": null,
   "metadata": {},
   "outputs": [],
   "source": []
  }
 ],
 "metadata": {
  "kernelspec": {
   "display_name": "Python 3",
   "language": "python",
   "name": "python3"
  },
  "language_info": {
   "codemirror_mode": {
    "name": "ipython",
    "version": 3
   },
   "file_extension": ".py",
   "mimetype": "text/x-python",
   "name": "python",
   "nbconvert_exporter": "python",
   "pygments_lexer": "ipython3",
   "version": "3.7.4"
  }
 },
 "nbformat": 4,
 "nbformat_minor": 2
}
