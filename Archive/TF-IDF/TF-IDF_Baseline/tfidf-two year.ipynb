{
 "cells": [
  {
   "cell_type": "markdown",
   "metadata": {},
   "source": [
    "# Tuning parameter of tf-idf base model\n",
    "# 1.Using 10k of first year and stock price of second year to train model\n",
    "# 2.Using 10k of second year to predict stock price of third year"
   ]
  },
  {
   "cell_type": "code",
   "execution_count": 1,
   "metadata": {},
   "outputs": [],
   "source": [
    "import numpy as np\n",
    "import pandas as pd\n",
    "import matplotlib.pyplot as plt\n",
    "from sklearn.model_selection import train_test_split\n",
    "from sklearn.feature_extraction.text import TfidfVectorizer, CountVectorizer\n",
    "import os\n",
    "import re\n",
    "from sklearn.linear_model import LinearRegression\n",
    "from sklearn.metrics import mean_squared_error"
   ]
  },
  {
   "cell_type": "code",
   "execution_count": 2,
   "metadata": {},
   "outputs": [],
   "source": [
    "def remove_Outliers(dataframe, column_name, outlierConstant = 1.5):\n",
    "    a = np.array(dataframe[column_name])\n",
    "    upper_quartile = np.percentile(a, 75)\n",
    "    lower_quartile = np.percentile(a, 25)\n",
    "    IQR = (upper_quartile - lower_quartile) * outlierConstant\n",
    "    quartileSet = (lower_quartile - IQR, upper_quartile + IQR)\n",
    "    index_list = []\n",
    "    for i in range(0,len(a)):\n",
    "        value = a[i]\n",
    "        if value <= quartileSet[0] or value >= quartileSet[1]:\n",
    "            index_list.append(i)            \n",
    "    new_dataframe = dataframe[~dataframe.index.isin(index_list)].reset_index(drop = True)    \n",
    "    return new_dataframe"
   ]
  },
  {
   "cell_type": "code",
   "execution_count": 3,
   "metadata": {},
   "outputs": [],
   "source": [
    "stop_words_list = []\n",
    "with open(\"stop_word_new.txt\", \"r\") as f:\n",
    "    for line in f:\n",
    "        stop_words_list.append(str(line.strip()))"
   ]
  },
  {
   "cell_type": "code",
   "execution_count": 4,
   "metadata": {},
   "outputs": [],
   "source": [
    "# Pre-process file, set exclude_digit = True if do not include digit \n",
    "def pre_process(file_content, exclude_digit):\n",
    "    processed_article = file_content.lower()\n",
    "    # Decide whether to exclude the digit or not \n",
    "    if exclude_digit == False:    # Include digit\n",
    "        processed_article = re.sub(',', '', processed_article )\n",
    "        processed_article = re.sub('[^a-zA-Z0-9]', ' ', processed_article )\n",
    "    else:                         # Exclude digit\n",
    "        processed_article = re.sub('[^a-zA-Z]', ' ', processed_article )\n",
    "\n",
    "    processed_article = re.sub(r'\\s+', ' ', processed_article)\n",
    "        \n",
    "    return processed_article.split()"
   ]
  },
  {
   "cell_type": "code",
   "execution_count": 5,
   "metadata": {},
   "outputs": [],
   "source": [
    "def Exclude_Stop_words (processed_article, stop_words_list):\n",
    "    all_words_0 = processed_article        \n",
    "#     all_words_1 = [word for word in all_words_0 if len(word) >4 ]   \n",
    "#     all_words_2 = [word for word in all_words_0 if word not in stop_words_list]\n",
    "    str = ' '\n",
    "    return str.join(all_words_0)"
   ]
  },
  {
   "cell_type": "code",
   "execution_count": 6,
   "metadata": {},
   "outputs": [],
   "source": [
    "def pre_encode_tfidf(path, files):\n",
    "    X = []\n",
    "    for filename in files:\n",
    "        if filename != '.DS_Store':\n",
    "            with open(path+'/'+filename,'r') as file:\n",
    "#                 print(filename)\n",
    "                pre_processed_article = file.read()[3000:]\n",
    "                processed_article = pre_process(pre_processed_article, True)\n",
    "                X.append(Exclude_Stop_words(processed_article, stop_words_list))\n",
    "    return X"
   ]
  },
  {
   "cell_type": "code",
   "execution_count": 7,
   "metadata": {},
   "outputs": [],
   "source": [
    "vectorizer = TfidfVectorizer(analyzer='char',stop_words='english')"
   ]
  },
  {
   "cell_type": "code",
   "execution_count": 8,
   "metadata": {},
   "outputs": [],
   "source": [
    "df_train = pd.read_csv('1999_10k_2000_price.csv')\n",
    "path_train = '/Users/faustune/Desktop/data/1999.full'\n",
    "dfy_train = remove_Outliers(df_train,'close_adjusted')\n",
    "files_train = dfy_train['filename'].tolist()\n",
    "y_train = dfy_train['close_adjusted']\n",
    "X0_train = pre_encode_tfidf(path_train, files_train)\n",
    "X_train = vectorizer.fit_transform(X0_train)"
   ]
  },
  {
   "cell_type": "code",
   "execution_count": 9,
   "metadata": {},
   "outputs": [],
   "source": [
    "reg = LinearRegression().fit(X_train, y_train)"
   ]
  },
  {
   "cell_type": "code",
   "execution_count": 10,
   "metadata": {},
   "outputs": [],
   "source": [
    "df_test = pd.read_csv('2000_10k_2001_price.csv')\n",
    "path_test = '/Users/faustune/Desktop/data/2000.full'\n",
    "dfy_test = remove_Outliers(df_test,'close_adjusted')\n",
    "files_test = dfy_test['filename'].tolist()\n",
    "y_test = dfy_test['close_adjusted']\n",
    "X0_test = pre_encode_tfidf(path_test, files_test)\n",
    "X_test = vectorizer.transform(X0_test)"
   ]
  },
  {
   "cell_type": "code",
   "execution_count": 11,
   "metadata": {},
   "outputs": [],
   "source": [
    "y_pred = reg.predict(X_test)"
   ]
  },
  {
   "cell_type": "code",
   "execution_count": 12,
   "metadata": {},
   "outputs": [
    {
     "data": {
      "text/plain": [
       "226.76287985277656"
      ]
     },
     "execution_count": 12,
     "metadata": {},
     "output_type": "execute_result"
    }
   ],
   "source": [
    "mse = mean_squared_error(y_test, y_pred)\n",
    "mse"
   ]
  },
  {
   "cell_type": "code",
   "execution_count": null,
   "metadata": {},
   "outputs": [],
   "source": []
  }
 ],
 "metadata": {
  "kernelspec": {
   "display_name": "Python 3",
   "language": "python",
   "name": "python3"
  },
  "language_info": {
   "codemirror_mode": {
    "name": "ipython",
    "version": 3
   },
   "file_extension": ".py",
   "mimetype": "text/x-python",
   "name": "python",
   "nbconvert_exporter": "python",
   "pygments_lexer": "ipython3",
   "version": "3.7.4"
  }
 },
 "nbformat": 4,
 "nbformat_minor": 2
}
