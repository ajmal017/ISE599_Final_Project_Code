{
 "cells": [
  {
   "cell_type": "code",
   "execution_count": 1,
   "metadata": {},
   "outputs": [],
   "source": [
    "import pandas as pd \n",
    "import numpy as np\n",
    "import nltk\n",
    "import gensim\n",
    "from nltk.corpus import stopwords\n",
    "from nltk.tokenize import sent_tokenize \n",
    "import re\n",
    "import collections\n",
    "import operator\n",
    "import os\n",
    "import pickle\n",
    "from gensim.models import Word2Vec\n",
    "from sklearn.feature_extraction.text import CountVectorizer\n",
    "from gensim.models import doc2vec\n",
    "from collections import namedtuple\n",
    "from sklearn.linear_model import LinearRegression\n",
    "import statsmodels.formula.api as sm\n",
    "import matplotlib.pyplot as plt\n",
    "from sklearn.metrics import mean_squared_error\n",
    "import pickle\n",
    "from sklearn.metrics import mean_absolute_error, mean_squared_error\n",
    "from sklearn import model_selection\n",
    "from scipy import stats\n",
    "import numpy as np\n",
    "from sklearn.model_selection import train_test_split\n",
    "from sklearn import linear_model\n",
    "from sklearn.tree import DecisionTreeRegressor\n",
    "from sklearn.model_selection import cross_val_score"
   ]
  },
  {
   "cell_type": "markdown",
   "metadata": {},
   "source": [
    "# 1.Data-preprocesssing, exclude special character / space / number "
   ]
  },
  {
   "cell_type": "code",
   "execution_count": 85,
   "metadata": {},
   "outputs": [],
   "source": [
    "# Pre-process file, set exclude_digit = True if do not include digit \n",
    "def pre_process(file_content, exclude_digit = False):\n",
    "    \n",
    "    processed_article = file_content.lower()\n",
    "    \n",
    "    # Decide whether to exclude the digit or not \n",
    "    if exclude_digit is False:\n",
    "    \n",
    "        # Include digit\n",
    "        processed_article = re.sub(',', '', processed_article )\n",
    "        processed_article = re.sub('[^a-zA-Z0-9]', ' ', processed_article )\n",
    "    else: \n",
    "        # Exclude digit\n",
    "        processed_article = re.sub('[^a-zA-Z]', ' ', processed_article )\n",
    "\n",
    "    processed_article = re.sub(r'\\s+', ' ', processed_article)\n",
    "    \n",
    "    \n",
    "    return processed_article"
   ]
  },
  {
   "cell_type": "markdown",
   "metadata": {},
   "source": [
    "# 2. Using stop words list to reduce content and Exclude word length < 4"
   ]
  },
  {
   "cell_type": "code",
   "execution_count": 86,
   "metadata": {},
   "outputs": [],
   "source": [
    "def Exclude_by_Stop_words (processed_article, stop_words_list):\n",
    "    all_sentences = nltk.sent_tokenize(processed_article)\n",
    "    \n",
    "    if len(all_sentences) == 1:\n",
    "        all_words = nltk.word_tokenize(all_sentences[0])\n",
    "#         print('There are',len(all_words),'words.')\n",
    "        \n",
    "        all_words = [word for word in all_words if len(word) >4 ]\n",
    "#         print('There are',len(all_words),'has more than 4 characters.')\n",
    "\n",
    "        all_words = [word for word in all_words if word not in stop_words_list]\n",
    "#         print('There are',len(all_words),'after removed stop_words.\\n')\n",
    "        \n",
    "        return all_words\n",
    "    \n",
    "    else:\n",
    "        print('Length > 1.')"
   ]
  },
  {
   "cell_type": "markdown",
   "metadata": {},
   "source": [
    "# 3. Using IQR to remove outliers from our target y (adjust_stock prices)"
   ]
  },
  {
   "cell_type": "code",
   "execution_count": 7,
   "metadata": {},
   "outputs": [],
   "source": [
    "# dataframe = data include 10k_file_name and adjusted stock prices\n",
    "# column_name = adjusted stock prices\n",
    "# outlierConstant = default is 5, you can change it if you want\n",
    "\n",
    "def remove_Outliers(dataframe, column_name, outlierConstant = 5):\n",
    "    a = np.array(dataframe[column_name])\n",
    "    upper_quartile = np.percentile(a, 75)\n",
    "    lower_quartile = np.percentile(a, 25)\n",
    "    IQR = (upper_quartile - lower_quartile) * outlierConstant\n",
    "    quartileSet = (lower_quartile - IQR, upper_quartile + IQR)\n",
    "    index_list = []\n",
    "    for i in range(0,len(a)):\n",
    "        value = a[i]\n",
    "        if value <= quartileSet[0] or value >= quartileSet[1]:\n",
    "            index_list.append(i)\n",
    "            \n",
    "    new_dataframe = dataframe[~dataframe.index.isin(index_list)].reset_index(drop = True)\n",
    "    \n",
    "    print('upper_quartile is',round(upper_quartile,3))\n",
    "    print('lower_quartile is',round(lower_quartile,3))\n",
    "    print('IQR is',round(IQR,3))\n",
    "    print('quartileSet is',quartileSet)\n",
    "    print('dataset size:', len(a))\n",
    "    print('Number of outliers:',len(index_list),'\\n')\n",
    "\n",
    "    return new_dataframe"
   ]
  },
  {
   "cell_type": "markdown",
   "metadata": {},
   "source": [
    "# 4. Using Exclude_Stop_words function to create a list of content for all 10K files in the file"
   ]
  },
  {
   "cell_type": "code",
   "execution_count": 88,
   "metadata": {},
   "outputs": [],
   "source": [
    "# Remove words by new stop_words_list\n",
    "\n",
    "# folder_path = folder that contain the 10k files\n",
    "# file_name_list = list of 10k files that have adjusted stock prices\n",
    "\n",
    "def list_content_for_model(folder_path = None,file_name_list = None):\n",
    "#     file_name_1996 = os.listdir('/Users/jinbinliang/Desktop/ISE599/Project/10K/2004.full')\n",
    "    stop_words_list = []\n",
    "    list_10k_contents = []\n",
    "    \n",
    "    # replace file_path to your stop words location\n",
    "    with open(\"/Users/jinbinliang/Desktop/ISE599/Project/10K/stop_word.txt\", \"r\") as f:\n",
    "        for line in f:\n",
    "            stop_words_list.append(str(line.strip()))\n",
    "\n",
    "    Num_doc = len(file_name_list)\n",
    "    count = 1\n",
    "    for file_name in file_name_list:\n",
    "#         file_name = file_name_1996[i]\n",
    "        file_path = folder_path + file_name\n",
    "        f = open(file_path,'r')\n",
    "        pre_processed_article = f.read()[3000:]\n",
    "        f.close()\n",
    "        processed_article = pre_process(pre_processed_article)\n",
    "        Exclude_word_processed_article = Exclude_by_Stop_words(processed_article,stop_words_list)\n",
    "        list_10k_contents.append(Exclude_word_processed_article)\n",
    "        print(count,'/',Num_doc,'completed')\n",
    "        count += 1\n",
    "    return list_10k_contents"
   ]
  },
  {
   "cell_type": "markdown",
   "metadata": {},
   "source": [
    "# 5. Build a doc_model to compute all of 10K files' vector."
   ]
  },
  {
   "cell_type": "code",
   "execution_count": 117,
   "metadata": {},
   "outputs": [],
   "source": [
    "# list_10k_contents = 10k file contents\n",
    "# vector_size = number of vector for each docs\n",
    "\n",
    "def doc_model(list_10k_contents, vector_size = 30, window = 300, min_count = 2):\n",
    "    docs = []\n",
    "    analyzedDocument = namedtuple('AnalyzedDocument', 'words tags')\n",
    "    for i, text in enumerate(list_10k_contents):\n",
    "        tags = [i]\n",
    "        docs.append(analyzedDocument(text, tags))\n",
    "    \n",
    "    model = doc2vec.Doc2Vec(docs, size = vector_size, window = window, min_count = min_count, workers = 4)\n",
    "    return model "
   ]
  },
  {
   "cell_type": "code",
   "execution_count": 120,
   "metadata": {},
   "outputs": [],
   "source": [
    "def construct_X(doc_vectors):\n",
    "    x = []\n",
    "    \n",
    "    for vector in range(0,len(doc_vectors.docvecs)):\n",
    "        x.append(list(doc_vectors[vector]))\n",
    "    \n",
    "    return x"
   ]
  },
  {
   "cell_type": "markdown",
   "metadata": {},
   "source": [
    "# 6. Build regression model"
   ]
  },
  {
   "cell_type": "code",
   "execution_count": 90,
   "metadata": {},
   "outputs": [
    {
     "ename": "NameError",
     "evalue": "name 'X' is not defined",
     "output_type": "error",
     "traceback": [
      "\u001b[0;31m---------------------------------------------------------------------------\u001b[0m",
      "\u001b[0;31mNameError\u001b[0m                                 Traceback (most recent call last)",
      "\u001b[0;32m<ipython-input-90-2c1ce8f8ef38>\u001b[0m in \u001b[0;36m<module>\u001b[0;34m\u001b[0m\n\u001b[1;32m      1\u001b[0m \u001b[0;31m# Separate train and test set\u001b[0m\u001b[0;34m\u001b[0m\u001b[0;34m\u001b[0m\u001b[0;34m\u001b[0m\u001b[0m\n\u001b[1;32m      2\u001b[0m \u001b[0;34m\u001b[0m\u001b[0m\n\u001b[0;32m----> 3\u001b[0;31m \u001b[0mX_train\u001b[0m\u001b[0;34m,\u001b[0m \u001b[0mX_test\u001b[0m\u001b[0;34m,\u001b[0m \u001b[0my_train\u001b[0m\u001b[0;34m,\u001b[0m \u001b[0my_test\u001b[0m \u001b[0;34m=\u001b[0m \u001b[0mtrain_test_split\u001b[0m\u001b[0;34m(\u001b[0m\u001b[0mX\u001b[0m\u001b[0;34m,\u001b[0m \u001b[0my\u001b[0m\u001b[0;34m,\u001b[0m \u001b[0mtest_size\u001b[0m\u001b[0;34m=\u001b[0m\u001b[0;36m0.33\u001b[0m\u001b[0;34m,\u001b[0m \u001b[0mrandom_state\u001b[0m\u001b[0;34m=\u001b[0m\u001b[0;36m42\u001b[0m\u001b[0;34m)\u001b[0m\u001b[0;34m\u001b[0m\u001b[0;34m\u001b[0m\u001b[0m\n\u001b[0m",
      "\u001b[0;31mNameError\u001b[0m: name 'X' is not defined"
     ]
    }
   ],
   "source": [
    "# Separate train and test set \n",
    "\n",
    "X_train, X_test, y_train, y_test = train_test_split(X, y, test_size=0.33, random_state=42)"
   ]
  },
  {
   "cell_type": "code",
   "execution_count": 91,
   "metadata": {},
   "outputs": [],
   "source": [
    "def model(X,y, model_name = 'linear'):\n",
    "    \n",
    "    if model_name == linear:\n",
    "        model = LinearRegression().fit(X, y)\n",
    "    if model_name == ridge:\n",
    "        model = linear_model.Ridge(alpha=.5).fit(X, y)\n",
    "    if model_name == lasso:\n",
    "        model = linear_model.Lasso(alpha=0.1).fit(X, y)\n",
    "    if model_name == tree:\n",
    "        model = DecisionTreeRegressor(random_state=0)\n",
    "        \n",
    "    return model"
   ]
  },
  {
   "cell_type": "code",
   "execution_count": 92,
   "metadata": {},
   "outputs": [],
   "source": [
    "def evaluation_model(model, x_train, y_train, x_test, y_test):\n",
    "    \n",
    "    cv_mse = cross_val_score(reg,x_train, y_train, cv=10, scoring='neg_mean_squared_error' )\n",
    "    cv_mbe = cross_val_score(reg,x_train, y_train, cv=10, scoring='neg_mean_absolute_error' )\n",
    "    cv_r2 = cross_val_score(reg,x_train, y_train, cv=10, scoring='r2' )\n",
    "    print('CV mse is',round(np.mean(cv_mse),4))\n",
    "    print('CV mbe is',round(np.mean(cv_mbe),4))\n",
    "    print('CV R^2 is',round(np.mean(cv_r2),4),'\\n')\n",
    "    \n",
    "    y_pred = model.predict(x_test)\n",
    "    test_mse = mean_squared_error(y_test, y_pred)\n",
    "    print('Test mse is',round(test_mse,4))"
   ]
  },
  {
   "cell_type": "code",
   "execution_count": null,
   "metadata": {},
   "outputs": [],
   "source": []
  },
  {
   "cell_type": "markdown",
   "metadata": {},
   "source": [
    "# Code process"
   ]
  },
  {
   "cell_type": "code",
   "execution_count": 95,
   "metadata": {},
   "outputs": [
    {
     "data": {
      "text/html": [
       "<div>\n",
       "<style scoped>\n",
       "    .dataframe tbody tr th:only-of-type {\n",
       "        vertical-align: middle;\n",
       "    }\n",
       "\n",
       "    .dataframe tbody tr th {\n",
       "        vertical-align: top;\n",
       "    }\n",
       "\n",
       "    .dataframe thead th {\n",
       "        text-align: right;\n",
       "    }\n",
       "</style>\n",
       "<table border=\"1\" class=\"dataframe\">\n",
       "  <thead>\n",
       "    <tr style=\"text-align: right;\">\n",
       "      <th></th>\n",
       "      <th>Unnamed: 0</th>\n",
       "      <th>filename</th>\n",
       "      <th>CENTRAL INDEX KEY:</th>\n",
       "      <th>symbol</th>\n",
       "      <th>year</th>\n",
       "      <th>close_adjusted</th>\n",
       "    </tr>\n",
       "  </thead>\n",
       "  <tbody>\n",
       "    <tr>\n",
       "      <th>0</th>\n",
       "      <td>0</td>\n",
       "      <td>74762E102-10-K-20010402.txt</td>\n",
       "      <td>1050915</td>\n",
       "      <td>1050915</td>\n",
       "      <td>2002</td>\n",
       "      <td>8.728929</td>\n",
       "    </tr>\n",
       "    <tr>\n",
       "      <th>1</th>\n",
       "      <td>1</td>\n",
       "      <td>206710204-10-K-2001-09-19.txt</td>\n",
       "      <td>749038</td>\n",
       "      <td>749038</td>\n",
       "      <td>2002</td>\n",
       "      <td>36.256077</td>\n",
       "    </tr>\n",
       "  </tbody>\n",
       "</table>\n",
       "</div>"
      ],
      "text/plain": [
       "   Unnamed: 0                       filename  CENTRAL INDEX KEY:   symbol  \\\n",
       "0           0    74762E102-10-K-20010402.txt             1050915  1050915   \n",
       "1           1  206710204-10-K-2001-09-19.txt              749038   749038   \n",
       "\n",
       "   year  close_adjusted  \n",
       "0  2002        8.728929  \n",
       "1  2002       36.256077  "
      ]
     },
     "execution_count": 95,
     "metadata": {},
     "output_type": "execute_result"
    }
   ],
   "source": [
    "input_file_path = \"/Users/jinbinliang/Desktop/ISE599/Project/CIK_Stock_price/2001_10k_2002_price.csv\"\n",
    "\n",
    "d1 = pd.read_csv(input_file_path)\n",
    "d1.head(2)"
   ]
  },
  {
   "cell_type": "code",
   "execution_count": 96,
   "metadata": {},
   "outputs": [
    {
     "name": "stdout",
     "output_type": "stream",
     "text": [
      "upper_quartile is 16.383\n",
      "lower_quartile is 4.528\n",
      "IQR is 59.274\n",
      "quartileSet is (-54.74628611111113, 75.65675724206352)\n",
      "dataset size: 700\n",
      "Number of outliers: 20 \n",
      "\n"
     ]
    }
   ],
   "source": [
    "d2 = remove_Outliers(d1,'close_adjusted')"
   ]
  },
  {
   "cell_type": "code",
   "execution_count": 100,
   "metadata": {},
   "outputs": [
    {
     "name": "stdout",
     "output_type": "stream",
     "text": [
      "1 / 30 completed\n",
      "2 / 30 completed\n",
      "3 / 30 completed\n",
      "4 / 30 completed\n",
      "5 / 30 completed\n",
      "6 / 30 completed\n",
      "7 / 30 completed\n",
      "8 / 30 completed\n",
      "9 / 30 completed\n",
      "10 / 30 completed\n",
      "11 / 30 completed\n",
      "12 / 30 completed\n",
      "13 / 30 completed\n",
      "14 / 30 completed\n",
      "15 / 30 completed\n",
      "16 / 30 completed\n",
      "17 / 30 completed\n",
      "18 / 30 completed\n",
      "19 / 30 completed\n",
      "20 / 30 completed\n",
      "21 / 30 completed\n",
      "22 / 30 completed\n",
      "23 / 30 completed\n",
      "24 / 30 completed\n",
      "25 / 30 completed\n",
      "26 / 30 completed\n",
      "27 / 30 completed\n",
      "28 / 30 completed\n",
      "29 / 30 completed\n",
      "30 / 30 completed\n"
     ]
    }
   ],
   "source": [
    "folder_10k = '/Users/jinbinliang/Desktop/ISE599/Project/10K/2001.full/'\n",
    "file_10k_name = d2[\"filename\"][0:30]\n",
    "\n",
    "list_10k_contents = list_content_for_model(folder_10k,file_10k_name)"
   ]
  },
  {
   "cell_type": "code",
   "execution_count": 118,
   "metadata": {},
   "outputs": [
    {
     "name": "stderr",
     "output_type": "stream",
     "text": [
      "/Users/jinbinliang/anaconda3/lib/python3.6/site-packages/gensim/models/doc2vec.py:574: UserWarning: The parameter `size` is deprecated, will be removed in 4.0.0, use `vector_size` instead.\n",
      "  warnings.warn(\"The parameter `size` is deprecated, will be removed in 4.0.0, use `vector_size` instead.\")\n"
     ]
    }
   ],
   "source": [
    "doc_vector_model = doc_model(list_10k_contents,vector_size = 30, window = 300, min_count = 2)"
   ]
  },
  {
   "cell_type": "code",
   "execution_count": 124,
   "metadata": {},
   "outputs": [
    {
     "data": {
      "text/plain": [
       "30"
      ]
     },
     "execution_count": 124,
     "metadata": {},
     "output_type": "execute_result"
    }
   ],
   "source": [
    "len(doc_vector_model.docvecs)"
   ]
  },
  {
   "cell_type": "code",
   "execution_count": 125,
   "metadata": {},
   "outputs": [],
   "source": [
    "X = construct_X(doc_vector_model)\n",
    "y = d2['close_adjusted']"
   ]
  },
  {
   "cell_type": "code",
   "execution_count": 2,
   "metadata": {},
   "outputs": [],
   "source": [
    "X_train, X_test, y_train, y_test = train_test_split(X, y, test_size=0.33, random_state=42)\n",
    "\n",
    "reg_model = model(X_train,y_train, model_name = 'linear')"
   ]
  },
  {
   "cell_type": "code",
   "execution_count": null,
   "metadata": {},
   "outputs": [],
   "source": [
    "evaluation_model(model, X_train, y_train, X_test, y_test)"
   ]
  },
  {
   "cell_type": "code",
   "execution_count": 128,
   "metadata": {},
   "outputs": [],
   "source": [
    "d1 = pd.read_csv('/Users/jinbinliang/Desktop/ISE599/Project/All_prices_10k_features/b1998_10k_1999_price_all_features.csv')"
   ]
  },
  {
   "cell_type": "code",
   "execution_count": 129,
   "metadata": {},
   "outputs": [
    {
     "data": {
      "text/html": [
       "<div>\n",
       "<style scoped>\n",
       "    .dataframe tbody tr th:only-of-type {\n",
       "        vertical-align: middle;\n",
       "    }\n",
       "\n",
       "    .dataframe tbody tr th {\n",
       "        vertical-align: top;\n",
       "    }\n",
       "\n",
       "    .dataframe thead th {\n",
       "        text-align: right;\n",
       "    }\n",
       "</style>\n",
       "<table border=\"1\" class=\"dataframe\">\n",
       "  <thead>\n",
       "    <tr style=\"text-align: right;\">\n",
       "      <th></th>\n",
       "      <th>Unnamed: 0</th>\n",
       "      <th>filename</th>\n",
       "      <th>CENTRAL INDEX KEY:</th>\n",
       "      <th>index</th>\n",
       "      <th>symbol</th>\n",
       "      <th>year</th>\n",
       "      <th>high</th>\n",
       "      <th>low</th>\n",
       "      <th>close_adjusted_x</th>\n",
       "      <th>close_adjusted_y</th>\n",
       "    </tr>\n",
       "  </thead>\n",
       "  <tbody>\n",
       "    <tr>\n",
       "      <th>0</th>\n",
       "      <td>0</td>\n",
       "      <td>29266S106-10-K-19980331.txt</td>\n",
       "      <td>1013606</td>\n",
       "      <td>600</td>\n",
       "      <td>1013606</td>\n",
       "      <td>1998</td>\n",
       "      <td>4.982063</td>\n",
       "      <td>4.661151</td>\n",
       "      <td>4.804881</td>\n",
       "      <td>4.130833</td>\n",
       "    </tr>\n",
       "    <tr>\n",
       "      <th>1</th>\n",
       "      <td>1</td>\n",
       "      <td>15670S105-10-K-19980317.txt</td>\n",
       "      <td>920321</td>\n",
       "      <td>480</td>\n",
       "      <td>920321</td>\n",
       "      <td>1998</td>\n",
       "      <td>26.924127</td>\n",
       "      <td>26.036111</td>\n",
       "      <td>139.911270</td>\n",
       "      <td>110.401905</td>\n",
       "    </tr>\n",
       "  </tbody>\n",
       "</table>\n",
       "</div>"
      ],
      "text/plain": [
       "   Unnamed: 0                     filename  CENTRAL INDEX KEY:  index  \\\n",
       "0           0  29266S106-10-K-19980331.txt             1013606    600   \n",
       "1           1  15670S105-10-K-19980317.txt              920321    480   \n",
       "\n",
       "    symbol  year       high        low  close_adjusted_x  close_adjusted_y  \n",
       "0  1013606  1998   4.982063   4.661151          4.804881          4.130833  \n",
       "1   920321  1998  26.924127  26.036111        139.911270        110.401905  "
      ]
     },
     "execution_count": 129,
     "metadata": {},
     "output_type": "execute_result"
    }
   ],
   "source": [
    "d1.head(2)"
   ]
  },
  {
   "cell_type": "code",
   "execution_count": 5,
   "metadata": {},
   "outputs": [],
   "source": [
    "folder_path = '/Users/jinbinliang/Desktop/ISE599/Project/All_prices_10k_features/'"
   ]
  },
  {
   "cell_type": "code",
   "execution_count": 8,
   "metadata": {},
   "outputs": [
    {
     "name": "stdout",
     "output_type": "stream",
     "text": [
      "upper_quartile is 13.696\n",
      "lower_quartile is 3.75\n",
      "IQR is 14.92\n",
      "quartileSet is (-11.170183584375001, 28.616469994625)\n",
      "dataset size: 450\n",
      "Number of outliers: 31 \n",
      "\n",
      "upper_quartile is 17.545\n",
      "lower_quartile is 3.949\n",
      "IQR is 20.393\n",
      "quartileSet is (-16.44387966269841, 37.93829097222222)\n",
      "dataset size: 527\n",
      "Number of outliers: 43 \n",
      "\n",
      "upper_quartile is 17.342\n",
      "lower_quartile is 4.109\n",
      "IQR is 19.849\n",
      "quartileSet is (-15.740741885080656, 37.190860131048396)\n",
      "dataset size: 588\n",
      "Number of outliers: 27 \n",
      "\n",
      "upper_quartile is 15.595\n",
      "lower_quartile is 4.424\n",
      "IQR is 16.758\n",
      "quartileSet is (-12.334064087301567, 32.35288988095235)\n",
      "dataset size: 681\n",
      "Number of outliers: 41 \n",
      "\n",
      "upper_quartile is 16.756\n",
      "lower_quartile is 5.023\n",
      "IQR is 17.6\n",
      "quartileSet is (-12.577757837301586, 34.35642708333333)\n",
      "dataset size: 839\n",
      "Number of outliers: 46 \n",
      "\n",
      "upper_quartile is 21.227\n",
      "lower_quartile is 7.234\n",
      "IQR is 20.99\n",
      "quartileSet is (-13.755589484126975, 42.216567658730156)\n",
      "dataset size: 1173\n",
      "Number of outliers: 72 \n",
      "\n",
      "upper_quartile is 24.268\n",
      "lower_quartile is 8.575\n",
      "IQR is 23.538\n",
      "quartileSet is (-14.963112053571441, 47.80608040674605)\n",
      "dataset size: 1278\n",
      "Number of outliers: 71 \n",
      "\n",
      "upper_quartile is 27.265\n",
      "lower_quartile is 10.136\n",
      "IQR is 25.694\n",
      "quartileSet is (-15.557503187250981, 52.958547808764926)\n",
      "dataset size: 1361\n",
      "Number of outliers: 75 \n",
      "\n",
      "upper_quartile is 31.373\n",
      "lower_quartile is 11.389\n",
      "IQR is 29.976\n",
      "quartileSet is (-18.587347211155382, 61.34864960159365)\n",
      "dataset size: 1382\n",
      "Number of outliers: 74 \n",
      "\n"
     ]
    }
   ],
   "source": [
    "mes_dict = {}\n",
    "for year in range(1998,2007):\n",
    "    file_path = folder_path+str(year)+'_10k_'+str(year+1)+'_price_all_features.csv'\n",
    "    d1 = pd.read_csv(file_path)\n",
    "    d2 = remove_Outliers(d1,'close_adjusted_y',outlierConstant = 1.5)\n",
    "    y_pred = d2['close_adjusted_x']\n",
    "    y_true = d2['close_adjusted_y']\n",
    "    mse = mean_squared_error(y_true, y_pred)\n",
    "    mes_dict[year] = mse\n",
    "    \n",
    "    "
   ]
  },
  {
   "cell_type": "code",
   "execution_count": 9,
   "metadata": {},
   "outputs": [
    {
     "data": {
      "text/plain": [
       "{1998: 22.011273571398323,\n",
       " 1999: 34.25177759546669,\n",
       " 2000: 130.616820807211,\n",
       " 2001: 63.127364471121176,\n",
       " 2002: 38.85004930043434,\n",
       " 2003: 23.66795852431973,\n",
       " 2004: 34.075453315545914,\n",
       " 2005: 31.706516101489935,\n",
       " 2006: 37.30512107393884}"
      ]
     },
     "execution_count": 9,
     "metadata": {},
     "output_type": "execute_result"
    }
   ],
   "source": [
    "mes_dict"
   ]
  },
  {
   "cell_type": "code",
   "execution_count": 10,
   "metadata": {},
   "outputs": [
    {
     "data": {
      "text/plain": [
       "{1998: 22.011273571398323,\n",
       " 1999: 34.25177759546669,\n",
       " 2000: 130.616820807211,\n",
       " 2001: 63.127364471121176,\n",
       " 2002: 38.85004930043434,\n",
       " 2003: 23.66795852431973,\n",
       " 2004: 34.075453315545914,\n",
       " 2005: 31.706516101489935,\n",
       " 2006: 37.30512107393884}"
      ]
     },
     "execution_count": 10,
     "metadata": {},
     "output_type": "execute_result"
    }
   ],
   "source": [
    "mes_dict"
   ]
  },
  {
   "cell_type": "code",
   "execution_count": 11,
   "metadata": {},
   "outputs": [
    {
     "data": {
      "image/png": "[encoded data removed]",
      "text/plain": [
       "<Figure size 432x288 with 1 Axes>"
      ]
     },
     "metadata": {
      "needs_background": "light"
     },
     "output_type": "display_data"
    }
   ],
   "source": [
    "fig = plt.figure()\n",
    "ax = fig.add_subplot(111)\n",
    "\n",
    "year = mes_dict.keys()\n",
    "mse = mes_dict.values()\n",
    "plt.plot(year,mse,'.-r')\n",
    "plt.xlabel('year')\n",
    "plt.ylabel('MSE')\n",
    "plt.title('Using Current Year Features Predict Next Year Stock Prices')\n",
    "for xy in zip(year, mse):                                       # <--\n",
    "    ax.annotate('%s' % round(xy[1],0),xy = xy, textcoords='data')\n"
   ]
  },
  {
   "cell_type": "code",
   "execution_count": 156,
   "metadata": {},
   "outputs": [
    {
     "data": {
      "text/plain": [
       "1998"
      ]
     },
     "execution_count": 156,
     "metadata": {},
     "output_type": "execute_result"
    }
   ],
   "source": [
    "xy[0]"
   ]
  },
  {
   "cell_type": "code",
   "execution_count": null,
   "metadata": {},
   "outputs": [],
   "source": []
  }
 ],
 "metadata": {
  "kernelspec": {
   "display_name": "Python 3",
   "language": "python",
   "name": "python3"
  },
  "language_info": {
   "codemirror_mode": {
    "name": "ipython",
    "version": 3
   },
   "file_extension": ".py",
   "mimetype": "text/x-python",
   "name": "python",
   "nbconvert_exporter": "python",
   "pygments_lexer": "ipython3",
   "version": "3.7.4"
  }
 },
 "nbformat": 4,
 "nbformat_minor": 2
}
